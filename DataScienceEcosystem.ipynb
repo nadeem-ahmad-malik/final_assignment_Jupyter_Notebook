{
 "cells": [
  {
   "cell_type": "markdown",
   "id": "52a53218-2655-40d2-8aca-102831d0f776",
   "metadata": {},
   "source": [
    "# Data Science Tools and Ecosystem"
   ]
  },
  {
   "cell_type": "markdown",
   "id": "15fa0c14-573d-449b-9b89-0dd7eca2ef91",
   "metadata": {},
   "source": [
    "In this notebook, Data Science Tools and Ecosystem are summarized."
   ]
  },
  {
   "cell_type": "markdown",
   "id": "e28ba93b-a1c2-47a5-81b5-f9c0096a5c30",
   "metadata": {},
   "source": [
    "**Objectives:**\n",
    "\n",
    "- List popular languages for Data Science\n",
    "- List commonly used libraries in Data Science\n",
    "- List development environment tools for Data Science\n",
    "- Demonstrate basic arithmetic operations in Python\n",
    "- Convert time units using Python code\n"
   ]
  },
  {
   "cell_type": "markdown",
   "id": "85a83541-d7c7-4e8b-a911-99ae668d2094",
   "metadata": {},
   "source": [
    "Some of the popular languages that Data Scientists use are:\n",
    "\n",
    "1. Python\n",
    "2. R\n",
    "3. SQL\n",
    "4. Julia\n",
    "5. Scala\n"
   ]
  },
  {
   "cell_type": "markdown",
   "id": "8c9d34ea-c093-46f8-9653-ab2e02c06993",
   "metadata": {},
   "source": [
    "Some of the commonly used libraries used by Data Scientists include:\n",
    "\n",
    "1. Pandas\n",
    "2. NumPy\n",
    "3. Matplotlib\n",
    "4. Scikit-learn\n",
    "5. TensorFlow\n"
   ]
  },
  {
   "cell_type": "markdown",
   "id": "1c013491-5d02-439a-b064-cd2f8b08f058",
   "metadata": {},
   "source": [
    "| Data Science Tools      |\n",
    "|-------------------------|\n",
    "| Jupyter Notebook        |\n",
    "| RStudio                 |\n",
    "| Apache Zeppelin         |\n"
   ]
  },
  {
   "cell_type": "markdown",
   "id": "6beda51f-ea25-41b9-8866-48b6ed00b0fb",
   "metadata": {},
   "source": [
    "### Below are a few examples of evaluating arithmetic expressions in Python."
   ]
  },
  {
   "cell_type": "code",
   "execution_count": 2,
   "id": "88ee70a0-63b1-4410-a286-815fd992e607",
   "metadata": {
    "tags": []
   },
   "outputs": [
    {
     "data": {
      "text/plain": [
       "17"
      ]
     },
     "execution_count": 2,
     "metadata": {},
     "output_type": "execute_result"
    }
   ],
   "source": [
    "# This is a simple arithmetic expression to multiply then add integers\n",
    "(3 * 4) + 5"
   ]
  },
  {
   "cell_type": "code",
   "execution_count": 3,
   "id": "78c8f4b6-9618-4164-b912-186d6c3b6573",
   "metadata": {
    "tags": []
   },
   "outputs": [
    {
     "data": {
      "text/plain": [
       "3.3333333333333335"
      ]
     },
     "execution_count": 3,
     "metadata": {},
     "output_type": "execute_result"
    }
   ],
   "source": [
    "# This will convert 200 minutes to hours by dividing by 60\n",
    "200 / 60"
   ]
  },
  {
   "cell_type": "markdown",
   "id": "2d2415e4-14f5-422b-a9f3-2bd0df8e1300",
   "metadata": {},
   "source": [
    "## Author\n",
    "\n",
    "Nadeem Ahmad Malik\n"
   ]
  },
  {
   "cell_type": "code",
   "execution_count": null,
   "id": "b8647127-c13a-4771-ae61-1ff2fc42ca72",
   "metadata": {},
   "outputs": [],
   "source": []
  }
 ],
 "metadata": {
  "kernelspec": {
   "display_name": "Python",
   "language": "python",
   "name": "conda-env-python-py"
  },
  "language_info": {
   "codemirror_mode": {
    "name": "ipython",
    "version": 3
   },
   "file_extension": ".py",
   "mimetype": "text/x-python",
   "name": "python",
   "nbconvert_exporter": "python",
   "pygments_lexer": "ipython3",
   "version": "3.7.12"
  }
 },
 "nbformat": 4,
 "nbformat_minor": 5
}
